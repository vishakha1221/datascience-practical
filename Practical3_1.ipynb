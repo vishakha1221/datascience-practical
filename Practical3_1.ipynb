{
  "cells": [
    {
      "cell_type": "markdown",
      "metadata": {
        "id": "view-in-github",
        "colab_type": "text"
      },
      "source": [
        "<a href=\"https://colab.research.google.com/github/vishakha1221/datascience-practical/blob/main/Practical3_1.ipynb\" target=\"_parent\"><img src=\"https://colab.research.google.com/assets/colab-badge.svg\" alt=\"Open In Colab\"/></a>"
      ]
    },
    {
      "cell_type": "code",
      "execution_count": null,
      "id": "50de0a49-86a4-446c-9570-cfa07c9e8a80",
      "metadata": {
        "id": "50de0a49-86a4-446c-9570-cfa07c9e8a80"
      },
      "outputs": [],
      "source": [
        "import numpy as np\n",
        "import pandas as pd"
      ]
    },
    {
      "cell_type": "code",
      "execution_count": null,
      "id": "93270f2b-ccba-4fd7-a481-fce931100072",
      "metadata": {
        "id": "93270f2b-ccba-4fd7-a481-fce931100072",
        "outputId": "d1c762db-82fd-47f7-8d55-81350cd5fc4f"
      },
      "outputs": [
        {
          "name": "stdout",
          "output_type": "stream",
          "text": [
            "[1 2 3]\n"
          ]
        }
      ],
      "source": [
        "# Creating a single-dimensional array\n",
        "a = np.array([1,2,3]) # Calling the array function\n",
        "print(a)"
      ]
    },
    {
      "cell_type": "code",
      "execution_count": null,
      "id": "67194ddc-1b52-4715-90c5-720130327ffa",
      "metadata": {
        "id": "67194ddc-1b52-4715-90c5-720130327ffa",
        "outputId": "6ee7fdde-98ea-45e3-d54e-d1cb74a0009a"
      },
      "outputs": [
        {
          "name": "stdout",
          "output_type": "stream",
          "text": [
            "[[1 2]\n",
            " [3 4]]\n"
          ]
        }
      ],
      "source": [
        "b = np.array([[1,2], [3,4]])\n",
        "print(b)"
      ]
    },
    {
      "cell_type": "code",
      "execution_count": null,
      "id": "0b8f0811-fdee-4987-8be5-631010e2c104",
      "metadata": {
        "id": "0b8f0811-fdee-4987-8be5-631010e2c104",
        "outputId": "74c3f4c9-1c88-4403-ffef-e19cc7888324"
      },
      "outputs": [
        {
          "name": "stdout",
          "output_type": "stream",
          "text": [
            "[1 2 3 4 5]\n"
          ]
        }
      ],
      "source": [
        "# Creating an ndarray by wrapping a list\n",
        "list1 = [1,2,3,4,5] # Creating a list\n",
        "arr = np.array(list1) # Wrapping the list\n",
        "print(arr)"
      ]
    },
    {
      "cell_type": "code",
      "execution_count": null,
      "id": "88840700-6551-4878-aff8-560618e59f55",
      "metadata": {
        "id": "88840700-6551-4878-aff8-560618e59f55",
        "outputId": "a7b9c91c-f5d1-4caa-9e68-d99d8a17afcb"
      },
      "outputs": [
        {
          "name": "stdout",
          "output_type": "stream",
          "text": [
            "[10 11 12 13 14 15 16 17 18 19 20 21 22 23 24 25 26 27 28 29 30 31 32 33\n",
            " 34 35 36 37 38 39 40 41 42 43 44 45 46 47 48 49 50 51 52 53 54 55 56 57\n",
            " 58 59 60 61 62 63 64 65 66 67 68 69 70 71 72 73 74 75 76 77 78 79 80 81\n",
            " 82 83 84 85 86 87 88 89 90 91 92 93 94 95 96 97 98 99]\n"
          ]
        }
      ],
      "source": [
        "# Creating an array of numbers of a specified range\n",
        "arr1 = np.arange(10, 100) # Array of numbers from 10 up to and excluding 100\n",
        "print(arr1)"
      ]
    },
    {
      "cell_type": "code",
      "execution_count": null,
      "id": "6d970fc7-d1e8-4c5e-ad81-ed06a25241c7",
      "metadata": {
        "id": "6d970fc7-d1e8-4c5e-ad81-ed06a25241c7",
        "outputId": "8624f692-867d-4ce8-9f10-f69f4d392b9d"
      },
      "outputs": [
        {
          "name": "stdout",
          "output_type": "stream",
          "text": [
            "[[0. 0. 0. 0. 0.]\n",
            " [0. 0. 0. 0. 0.]\n",
            " [0. 0. 0. 0. 0.]\n",
            " [0. 0. 0. 0. 0.]\n",
            " [0. 0. 0. 0. 0.]]\n"
          ]
        }
      ],
      "source": [
        "# Creating a 5x5 array of zeroes\n",
        "arr2 = np.zeros((5,5))\n",
        "print(arr2)"
      ]
    },
    {
      "cell_type": "code",
      "execution_count": null,
      "id": "c0cc94d5-b2fa-489f-a98a-c5917f03c3eb",
      "metadata": {
        "id": "c0cc94d5-b2fa-489f-a98a-c5917f03c3eb",
        "outputId": "30719d1c-008e-4fd5-bdc6-ae877066da0c"
      },
      "outputs": [
        {
          "name": "stdout",
          "output_type": "stream",
          "text": [
            "[ 0.  5. 10. 15. 20.]\n"
          ]
        }
      ],
      "source": [
        "# Creating a linearly spaced vector, with spacing\n",
        "vector = np.linspace(0, 20, 5) # Start, stop, step\n",
        "print(vector)"
      ]
    },
    {
      "cell_type": "code",
      "execution_count": null,
      "id": "b0960689-ca7f-43c4-b593-bdba5485ae2f",
      "metadata": {
        "id": "b0960689-ca7f-43c4-b593-bdba5485ae2f",
        "outputId": "9a735583-9629-4187-c3d1-0eb38880b170"
      },
      "outputs": [
        {
          "name": "stdout",
          "output_type": "stream",
          "text": [
            "[1 2 3]\n"
          ]
        }
      ],
      "source": [
        "# Creating Arrays from Existing Data\n",
        "x = [1,2,3]\n",
        "# Used for converting Python sequences into ndarrays\n",
        "c = np.asarray(x) #np.asarray(a, dtype = None, order = None)\n",
        "print(c)"
      ]
    },
    {
      "cell_type": "code",
      "execution_count": null,
      "id": "547ae515-3f36-412f-91eb-a0242155cf90",
      "metadata": {
        "id": "547ae515-3f36-412f-91eb-a0242155cf90",
        "outputId": "7c183d96-177d-4e4c-a035-229a8df952dd"
      },
      "outputs": [
        {
          "name": "stdout",
          "output_type": "stream",
          "text": [
            "[[[0. 0.]\n",
            "  [0. 0.]]\n",
            "\n",
            " [[0. 0.]\n",
            "  [0. 0.]]]\n"
          ]
        }
      ],
      "source": [
        "# Converting a linear array of 8 elements into a 2x2x2 3D array\n",
        "arr3 = np.zeros(8) # Flat array of eight zeroes\n",
        "arr3d = arr3.reshape((2,2,2)) # Restructured array\n",
        "print(arr3d)"
      ]
    },
    {
      "cell_type": "code",
      "execution_count": null,
      "id": "22bc2b4e-5eb7-411f-90cf-57ec95e622ac",
      "metadata": {
        "id": "22bc2b4e-5eb7-411f-90cf-57ec95e622ac",
        "outputId": "01e814db-fb59-4f3f-885e-fd0985cf6a48"
      },
      "outputs": [
        {
          "name": "stdout",
          "output_type": "stream",
          "text": [
            "[0. 0. 0. 0. 0. 0. 0. 0.]\n"
          ]
        }
      ],
      "source": [
        "# Flatten rgw 3d array to get back the linear array\n",
        "arr4 = arr3d.ravel()\n",
        "print(arr4)"
      ]
    },
    {
      "cell_type": "code",
      "execution_count": null,
      "id": "36e94a79-e586-4689-99de-c52ad5768997",
      "metadata": {
        "id": "36e94a79-e586-4689-99de-c52ad5768997",
        "outputId": "b5fd0f8e-922d-4128-e7e7-1fe146a10e81"
      },
      "outputs": [
        {
          "name": "stdout",
          "output_type": "stream",
          "text": [
            "8\n"
          ]
        }
      ],
      "source": [
        "# NumPy array indexing is identical to Python's indexing scheme\n",
        "arr5 = np.arange(2, 20)\n",
        "element = arr5[6]\n",
        "print(element)"
      ]
    },
    {
      "cell_type": "code",
      "execution_count": null,
      "id": "e76fce09-aae8-4b09-a5e0-bbfcb61eca55",
      "metadata": {
        "id": "e76fce09-aae8-4b09-a5e0-bbfcb61eca55",
        "outputId": "817d9c0a-612b-45fa-bd10-550205d5bf55"
      },
      "outputs": [
        {
          "name": "stdout",
          "output_type": "stream",
          "text": [
            "[1 3 5 7 9]\n"
          ]
        }
      ],
      "source": [
        "# Python's concept of lists slicing is extended to NumPy.\n",
        "# The slice object is constructed by providing start, stop, and step parameters to slice()\n",
        "arr6 = np.arange(20)\n",
        "arr_slice = slice(1, 10, 2) # Start, stop & step\n",
        "element2 = arr6[6]\n",
        "print(arr6[arr_slice])"
      ]
    },
    {
      "cell_type": "code",
      "execution_count": null,
      "id": "6a9ee1f9-34a3-4a39-9bfa-06f5a7cd1d19",
      "metadata": {
        "id": "6a9ee1f9-34a3-4a39-9bfa-06f5a7cd1d19",
        "outputId": "5d9db0b5-f44c-4c0c-efad-acdfbf290b14"
      },
      "outputs": [
        {
          "name": "stdout",
          "output_type": "stream",
          "text": [
            "[ 2  3  4  5  6  7  8  9 10 11 12 13 14 15 16 17 18 19]\n"
          ]
        }
      ],
      "source": [
        "# Slicing items beginning with a specified index\n",
        "arr7 = np.arange(20)\n",
        "print(arr7[2:])"
      ]
    },
    {
      "cell_type": "code",
      "execution_count": null,
      "id": "1a4a9aa1-42d3-48d1-a18f-4af4de8ca73d",
      "metadata": {
        "id": "1a4a9aa1-42d3-48d1-a18f-4af4de8ca73d",
        "outputId": "3f0c1095-f367-47c8-ce93-683cf82e3a3a"
      },
      "outputs": [
        {
          "name": "stdout",
          "output_type": "stream",
          "text": [
            "[ 0  1  2  3  4  5  6  7  8  9 10 11 12 13 14]\n"
          ]
        }
      ],
      "source": [
        "# Slicing items until a specified index\n",
        "print(arr7[:15])"
      ]
    },
    {
      "cell_type": "code",
      "execution_count": null,
      "id": "ec617bc2-c63d-4661-9a30-6244894dca6b",
      "metadata": {
        "id": "ec617bc2-c63d-4661-9a30-6244894dca6b",
        "outputId": "331d87e0-9911-4bc8-a657-04235399d037"
      },
      "outputs": [
        {
          "name": "stdout",
          "output_type": "stream",
          "text": [
            "[[1 2]\n",
            " [3 4]]\n"
          ]
        }
      ],
      "source": [
        "# Extracting specific rows and columns using Slicing\n",
        "d = np.array([[1,2,3], [3,4,5], [4,5,6]])\n",
        "print(d[0:2, 0:2]) # Slice the first two rows and the first two columns"
      ]
    },
    {
      "cell_type": "code",
      "execution_count": null,
      "id": "f1454c53-76e7-49d0-a8e8-3610a21ad3f1",
      "metadata": {
        "id": "f1454c53-76e7-49d0-a8e8-3610a21ad3f1",
        "outputId": "8fc58b64-4a49-44c1-c8f6-cfebb4f7e55a"
      },
      "outputs": [
        {
          "name": "stdout",
          "output_type": "stream",
          "text": [
            "(3, 3)\n",
            "2\n",
            "8\n"
          ]
        }
      ],
      "source": [
        "print(d.shape) # Returns a tuple consisting of array dimensions\n",
        "print(d.ndim) # Attribute returns the number of array dimensions\n",
        "print(a.itemsize) # Returns the length of each element of array in bytes"
      ]
    },
    {
      "cell_type": "code",
      "execution_count": null,
      "id": "4abf1ff0-1373-4db8-ad81-80d6e8ba6d17",
      "metadata": {
        "id": "4abf1ff0-1373-4db8-ad81-80d6e8ba6d17",
        "outputId": "8489ffcf-92f5-4dc7-e587-0bbe76f2fbf9"
      },
      "outputs": [
        {
          "name": "stdout",
          "output_type": "stream",
          "text": [
            "[[0 0]\n",
            " [0 0]\n",
            " [0 0]]\n"
          ]
        }
      ],
      "source": [
        "y = np.empty([3,2], dtype = int) # Creates an uninitialized array of specified shape and dtype\n",
        "print(y)"
      ]
    },
    {
      "cell_type": "code",
      "execution_count": null,
      "id": "a0d07485-4cfa-4b79-a362-e13c484c25d6",
      "metadata": {
        "id": "a0d07485-4cfa-4b79-a362-e13c484c25d6",
        "outputId": "931940fa-959e-4ae0-cf18-11b07170858d"
      },
      "outputs": [
        {
          "name": "stdout",
          "output_type": "stream",
          "text": [
            "[0. 0. 0. 0. 0.]\n"
          ]
        }
      ],
      "source": [
        "# Returns a new array of specified size, filled with zeros\n",
        "z = np.zeros(5) # np.zeros(shape, dtype = float)\n",
        "print(z)"
      ]
    },
    {
      "cell_type": "code",
      "execution_count": null,
      "id": "de10d0eb-7f37-42f6-9a85-5d7042958a5e",
      "metadata": {
        "id": "de10d0eb-7f37-42f6-9a85-5d7042958a5e",
        "outputId": "6c6ff366-796b-4d68-b1dc-3985d43f99a2"
      },
      "outputs": [
        {
          "ename": "ValueError",
          "evalue": "could not convert string 'account_number,name,item_code,category,quantity,unit' to float64 at row 0, column 1.",
          "output_type": "error",
          "traceback": [
            "\u001b[1;31m---------------------------------------------------------------------------\u001b[0m",
            "\u001b[1;31mValueError\u001b[0m                                Traceback (most recent call last)",
            "\u001b[1;31mValueError\u001b[0m: could not convert string to float: 'account_number,name,item_code,category,quantity,unit'",
            "\nThe above exception was the direct cause of the following exception:\n",
            "\u001b[1;31mValueError\u001b[0m                                Traceback (most recent call last)",
            "Cell \u001b[1;32mIn[98], line 5\u001b[0m\n\u001b[0;32m      1\u001b[0m \u001b[38;5;66;03m# NumPy provides the option of importing data from files directly into ndarray using the loadtxt function\u001b[39;00m\n\u001b[0;32m      2\u001b[0m \u001b[38;5;66;03m# The savetxt function can be used to write data from an array into a text file\u001b[39;00m\n\u001b[0;32m      3\u001b[0m \u001b[38;5;66;03m#import os\u001b[39;00m\n\u001b[0;32m      4\u001b[0m \u001b[38;5;66;03m#print(os.listdir('../input'))\u001b[39;00m\n\u001b[1;32m----> 5\u001b[0m arr_txt \u001b[38;5;241m=\u001b[39m np\u001b[38;5;241m.\u001b[39mloadtxt(\u001b[38;5;124m'\u001b[39m\u001b[38;5;124m./data_test.txt\u001b[39m\u001b[38;5;124m'\u001b[39m)\n\u001b[0;32m      6\u001b[0m np\u001b[38;5;241m.\u001b[39msavetxt(\u001b[38;5;124m'\u001b[39m\u001b[38;5;124mnewfilex.txt\u001b[39m\u001b[38;5;124m'\u001b[39m, arr_txt)\n",
            "File \u001b[1;32mC:\\anaconda\\Lib\\site-packages\\numpy\\lib\\_npyio_impl.py:1397\u001b[0m, in \u001b[0;36mloadtxt\u001b[1;34m(fname, dtype, comments, delimiter, converters, skiprows, usecols, unpack, ndmin, encoding, max_rows, quotechar, like)\u001b[0m\n\u001b[0;32m   1394\u001b[0m \u001b[38;5;28;01mif\u001b[39;00m \u001b[38;5;28misinstance\u001b[39m(delimiter, \u001b[38;5;28mbytes\u001b[39m):\n\u001b[0;32m   1395\u001b[0m     delimiter \u001b[38;5;241m=\u001b[39m delimiter\u001b[38;5;241m.\u001b[39mdecode(\u001b[38;5;124m'\u001b[39m\u001b[38;5;124mlatin1\u001b[39m\u001b[38;5;124m'\u001b[39m)\n\u001b[1;32m-> 1397\u001b[0m arr \u001b[38;5;241m=\u001b[39m _read(fname, dtype\u001b[38;5;241m=\u001b[39mdtype, comment\u001b[38;5;241m=\u001b[39mcomment, delimiter\u001b[38;5;241m=\u001b[39mdelimiter,\n\u001b[0;32m   1398\u001b[0m             converters\u001b[38;5;241m=\u001b[39mconverters, skiplines\u001b[38;5;241m=\u001b[39mskiprows, usecols\u001b[38;5;241m=\u001b[39musecols,\n\u001b[0;32m   1399\u001b[0m             unpack\u001b[38;5;241m=\u001b[39munpack, ndmin\u001b[38;5;241m=\u001b[39mndmin, encoding\u001b[38;5;241m=\u001b[39mencoding,\n\u001b[0;32m   1400\u001b[0m             max_rows\u001b[38;5;241m=\u001b[39mmax_rows, quote\u001b[38;5;241m=\u001b[39mquotechar)\n\u001b[0;32m   1402\u001b[0m \u001b[38;5;28;01mreturn\u001b[39;00m arr\n",
            "File \u001b[1;32mC:\\anaconda\\Lib\\site-packages\\numpy\\lib\\_npyio_impl.py:1036\u001b[0m, in \u001b[0;36m_read\u001b[1;34m(fname, delimiter, comment, quote, imaginary_unit, usecols, skiplines, max_rows, converters, ndmin, unpack, dtype, encoding)\u001b[0m\n\u001b[0;32m   1033\u001b[0m     data \u001b[38;5;241m=\u001b[39m _preprocess_comments(data, comments, encoding)\n\u001b[0;32m   1035\u001b[0m \u001b[38;5;28;01mif\u001b[39;00m read_dtype_via_object_chunks \u001b[38;5;129;01mis\u001b[39;00m \u001b[38;5;28;01mNone\u001b[39;00m:\n\u001b[1;32m-> 1036\u001b[0m     arr \u001b[38;5;241m=\u001b[39m _load_from_filelike(\n\u001b[0;32m   1037\u001b[0m         data, delimiter\u001b[38;5;241m=\u001b[39mdelimiter, comment\u001b[38;5;241m=\u001b[39mcomment, quote\u001b[38;5;241m=\u001b[39mquote,\n\u001b[0;32m   1038\u001b[0m         imaginary_unit\u001b[38;5;241m=\u001b[39mimaginary_unit,\n\u001b[0;32m   1039\u001b[0m         usecols\u001b[38;5;241m=\u001b[39musecols, skiplines\u001b[38;5;241m=\u001b[39mskiplines, max_rows\u001b[38;5;241m=\u001b[39mmax_rows,\n\u001b[0;32m   1040\u001b[0m         converters\u001b[38;5;241m=\u001b[39mconverters, dtype\u001b[38;5;241m=\u001b[39mdtype,\n\u001b[0;32m   1041\u001b[0m         encoding\u001b[38;5;241m=\u001b[39mencoding, filelike\u001b[38;5;241m=\u001b[39mfilelike,\n\u001b[0;32m   1042\u001b[0m         byte_converters\u001b[38;5;241m=\u001b[39mbyte_converters)\n\u001b[0;32m   1044\u001b[0m \u001b[38;5;28;01melse\u001b[39;00m:\n\u001b[0;32m   1045\u001b[0m     \u001b[38;5;66;03m# This branch reads the file into chunks of object arrays and then\u001b[39;00m\n\u001b[0;32m   1046\u001b[0m     \u001b[38;5;66;03m# casts them to the desired actual dtype.  This ensures correct\u001b[39;00m\n\u001b[0;32m   1047\u001b[0m     \u001b[38;5;66;03m# string-length and datetime-unit discovery (like `arr.astype()`).\u001b[39;00m\n\u001b[0;32m   1048\u001b[0m     \u001b[38;5;66;03m# Due to chunking, certain error reports are less clear, currently.\u001b[39;00m\n\u001b[0;32m   1049\u001b[0m     \u001b[38;5;28;01mif\u001b[39;00m filelike:\n",
            "\u001b[1;31mValueError\u001b[0m: could not convert string 'account_number,name,item_code,category,quantity,unit' to float64 at row 0, column 1."
          ]
        }
      ],
      "source": [
        "# NumPy provides the option of importing data from files directly into ndarray using the loadtxt function\n",
        "# The savetxt function can be used to write data from an array into a text file\n",
        "#import os\n",
        "#print(os.listdir('../input'))\n",
        "arr_txt = np.loadtxt('./data_test.txt')\n",
        "np.savetxt('newfilex.txt', arr_txt)"
      ]
    },
    {
      "cell_type": "code",
      "execution_count": null,
      "id": "c0a05d41-abcb-490a-a63a-8f36d0384d19",
      "metadata": {
        "id": "c0a05d41-abcb-490a-a63a-8f36d0384d19"
      },
      "outputs": [],
      "source": [
        "# NumPy arrays can be dumped into CSV files using the savetxt function and the comma delimiter\n",
        "# The genfromtxt function can be used to read data from a CSV file into a NumPy array\n",
        "arr_csv = np.genfromtxt('Hurricanes.csv', delimiter = ',')\n",
        "np.savetxt('newfilex.csv', arr_csv, delimiter = ',')"
      ]
    },
    {
      "cell_type": "code",
      "execution_count": null,
      "id": "dd2108b8-c8db-41b5-ba4f-574eae7b0e46",
      "metadata": {
        "id": "dd2108b8-c8db-41b5-ba4f-574eae7b0e46"
      },
      "outputs": [],
      "source": [
        "import pandas as pd"
      ]
    },
    {
      "cell_type": "code",
      "execution_count": null,
      "id": "b9538641-9f02-4d0b-8bcd-732a888680bf",
      "metadata": {
        "id": "b9538641-9f02-4d0b-8bcd-732a888680bf",
        "outputId": "d4cca970-f1d8-4246-a331-e3464ab3d8c7"
      },
      "outputs": [
        {
          "name": "stdout",
          "output_type": "stream",
          "text": [
            "Series([], dtype: object)\n"
          ]
        }
      ],
      "source": [
        "# Creating an empty Series\n",
        "series = pd.Series() # The Series() function creates a new Series\n",
        "print(series)"
      ]
    },
    {
      "cell_type": "code",
      "execution_count": null,
      "id": "be0b6f0a-6aa9-4adb-9b80-269ed4098998",
      "metadata": {
        "id": "be0b6f0a-6aa9-4adb-9b80-269ed4098998",
        "outputId": "b04ab052-e972-43e0-95f5-f62136bf9214"
      },
      "outputs": [
        {
          "name": "stdout",
          "output_type": "stream",
          "text": [
            "0    10\n",
            "1    20\n",
            "2    30\n",
            "3    40\n",
            "4    50\n",
            "dtype: int64\n"
          ]
        }
      ],
      "source": [
        "# Creating a series from an ndarray\n",
        "# Note that indexes are a assigned automatically if not specifies\n",
        "arr = np.array([10,20,30,40,50])\n",
        "series1 = pd.Series(arr)\n",
        "print(series1)"
      ]
    },
    {
      "cell_type": "code",
      "execution_count": null,
      "id": "670caa30-5f64-45a6-a996-318e66a3cc69",
      "metadata": {
        "id": "670caa30-5f64-45a6-a996-318e66a3cc69",
        "outputId": "04d8d389-915f-457d-8389-fdbdd052b431"
      },
      "outputs": [
        {
          "name": "stdout",
          "output_type": "stream",
          "text": [
            "a    10\n",
            "b    20\n",
            "c    30\n",
            "dtype: int64\n"
          ]
        }
      ],
      "source": [
        "# Creating a series from a Python dict\n",
        "# Note that the keys of the dictionary are used to assign indexes during conversion\n",
        "data = {'a':10, 'b':20, 'c':30}\n",
        "series2 = pd.Series(data)\n",
        "print(series2)"
      ]
    },
    {
      "cell_type": "code",
      "execution_count": null,
      "id": "7311498e-0edc-4b86-91a9-0d6393bc8504",
      "metadata": {
        "id": "7311498e-0edc-4b86-91a9-0d6393bc8504",
        "outputId": "a3b59510-8cfd-465f-cae3-4443f94b515b"
      },
      "outputs": [
        {
          "name": "stdout",
          "output_type": "stream",
          "text": [
            "1    20\n",
            "2    30\n",
            "3    40\n",
            "dtype: int64\n"
          ]
        }
      ],
      "source": [
        "# Retrieving a part of the series using slicing\n",
        "print(series1[1:4])"
      ]
    },
    {
      "cell_type": "code",
      "execution_count": null,
      "id": "40a26be8-81c1-43b4-a6d5-35fbfb6659d7",
      "metadata": {
        "id": "40a26be8-81c1-43b4-a6d5-35fbfb6659d7",
        "outputId": "1f49cfd0-d36e-4fb2-d521-4a5817317740"
      },
      "outputs": [
        {
          "name": "stdout",
          "output_type": "stream",
          "text": [
            "    0\n",
            "0  10\n",
            "1  20\n",
            "2  30\n",
            "3  40\n"
          ]
        }
      ],
      "source": [
        "# Converting a list into a DataFrame\n",
        "list1 = [10, 20, 30, 40]\n",
        "table = pd.DataFrame(list1)\n",
        "print(table)"
      ]
    },
    {
      "cell_type": "code",
      "execution_count": null,
      "id": "09b7cfb1-006d-41f5-ab3b-bb579419b8a6",
      "metadata": {
        "id": "09b7cfb1-006d-41f5-ab3b-bb579419b8a6",
        "outputId": "17e3a059-9d0e-4623-caf9-b61189a4b041"
      },
      "outputs": [
        {
          "name": "stdout",
          "output_type": "stream",
          "text": [
            "   a  b    c\n",
            "0  1  2  NaN\n",
            "1  2  4  8.0\n"
          ]
        }
      ],
      "source": [
        "# Creating a DataFrame from a list of dictionaries\n",
        "data = [{'a':1, 'b':2}, {'a':2, 'b':4, 'c':8}]\n",
        "table1 = pd.DataFrame(data)\n",
        "print(table1)"
      ]
    },
    {
      "cell_type": "code",
      "execution_count": null,
      "id": "4f366979-7105-4599-94b2-16fb08c3114a",
      "metadata": {
        "id": "4f366979-7105-4599-94b2-16fb08c3114a",
        "outputId": "48d1f192-f237-4345-f3ca-c7b6444f4c7a"
      },
      "outputs": [
        {
          "name": "stdout",
          "output_type": "stream",
          "text": [
            "        a  b    c\n",
            "first   1  2  NaN\n",
            "second  2  4  8.0\n"
          ]
        }
      ],
      "source": [
        "# Creating a DataFrame from a list of dictionaries and accompaying row indices\n",
        "table2 = pd.DataFrame(data, index = ['first', 'second'])\n",
        "# Dict keys become column lables\n",
        "print(table2)"
      ]
    },
    {
      "cell_type": "code",
      "execution_count": null,
      "id": "d912cc2f-5e67-49c7-bc31-6cecd69f79ef",
      "metadata": {
        "id": "d912cc2f-5e67-49c7-bc31-6cecd69f79ef",
        "outputId": "b2992321-cd66-4ecd-f0e9-50630de29adb"
      },
      "outputs": [
        {
          "name": "stdout",
          "output_type": "stream",
          "text": [
            "   one  two\n",
            "a  1.0    1\n",
            "b  2.0    2\n",
            "c  3.0    3\n",
            "d  NaN    4\n"
          ]
        }
      ],
      "source": [
        "# Converting a dictionary of series into a DataFrame\n",
        "data1 = {'one':pd.Series([1,2,3], index = ['a', 'b', 'c']),\n",
        "        'two':pd.Series([1,2,3,4], index = ['a', 'b', 'c', 'd'])}\n",
        "table3 = pd.DataFrame(data1)\n",
        "print(table3)"
      ]
    },
    {
      "cell_type": "code",
      "execution_count": null,
      "id": "066948f9-6442-4805-9a74-e5f91cc86c7a",
      "metadata": {
        "id": "066948f9-6442-4805-9a74-e5f91cc86c7a",
        "outputId": "56f90172-e983-4849-e8bd-0e657cce9cda"
      },
      "outputs": [
        {
          "name": "stdout",
          "output_type": "stream",
          "text": [
            "   one  two  three\n",
            "a  1.0    1   10.0\n",
            "b  2.0    2   20.0\n",
            "c  3.0    3   30.0\n",
            "d  NaN    4    NaN\n"
          ]
        }
      ],
      "source": [
        "# A new column can be added to a DataFrame when the data is passed as a Series\n",
        "table3['three'] = pd.Series([10,20,30], index = ['a', 'b', 'c'])\n",
        "print(table3)"
      ]
    },
    {
      "cell_type": "code",
      "execution_count": null,
      "id": "db72a035-060a-4d77-836a-3d2546661521",
      "metadata": {
        "id": "db72a035-060a-4d77-836a-3d2546661521",
        "outputId": "2548a8e8-2f59-4cda-ee44-d4616b76fc07"
      },
      "outputs": [
        {
          "name": "stdout",
          "output_type": "stream",
          "text": [
            "   two  three\n",
            "a    1   10.0\n",
            "b    2   20.0\n",
            "c    3   30.0\n",
            "d    4    NaN\n"
          ]
        }
      ],
      "source": [
        "# DataFrame columns can be deleted using the del() function\n",
        "del table3['one']\n",
        "print(table3)"
      ]
    },
    {
      "cell_type": "code",
      "execution_count": null,
      "id": "2246c457-3e34-429b-b1bd-4b9d500386a6",
      "metadata": {
        "id": "2246c457-3e34-429b-b1bd-4b9d500386a6",
        "outputId": "d0fa34da-81b0-409b-f946-6a06e564991a"
      },
      "outputs": [
        {
          "name": "stdout",
          "output_type": "stream",
          "text": [
            "   three\n",
            "a   10.0\n",
            "b   20.0\n",
            "c   30.0\n",
            "d    NaN\n"
          ]
        }
      ],
      "source": [
        "# DataFrame columns can be deleted using the pop() function\n",
        "table3.pop('two')\n",
        "print(table3)"
      ]
    },
    {
      "cell_type": "code",
      "execution_count": null,
      "id": "947d877d-17c5-430d-aa4d-a6a3dac9284b",
      "metadata": {
        "id": "947d877d-17c5-430d-aa4d-a6a3dac9284b",
        "outputId": "48b5aeb7-d242-4586-a2e1-8a81e848e834"
      },
      "outputs": [
        {
          "name": "stdout",
          "output_type": "stream",
          "text": [
            "three    30.0\n",
            "Name: c, dtype: float64\n"
          ]
        }
      ],
      "source": [
        "# DataFrame rows can be selected by passing the row lable to the loc() function\n",
        "print(table3.loc['c'])"
      ]
    },
    {
      "cell_type": "code",
      "execution_count": null,
      "id": "8f93ce18-6dbf-48fd-8985-584f98a845c7",
      "metadata": {
        "id": "8f93ce18-6dbf-48fd-8985-584f98a845c7",
        "outputId": "a44abc23-b131-43a6-8051-975a1e68ca12"
      },
      "outputs": [
        {
          "name": "stdout",
          "output_type": "stream",
          "text": [
            "three    30.0\n",
            "Name: c, dtype: float64\n"
          ]
        }
      ],
      "source": [
        "# Row selection can also be done using the row index\n",
        "print(table3.iloc[2])"
      ]
    },
    {
      "cell_type": "code",
      "execution_count": null,
      "id": "667ce69f-4656-44e5-a8d7-050f7940416e",
      "metadata": {
        "id": "667ce69f-4656-44e5-a8d7-050f7940416e",
        "outputId": "3a0ad183-8830-470c-fc47-73e24e275899"
      },
      "outputs": [
        {
          "name": "stdout",
          "output_type": "stream",
          "text": [
            "   one  two  three\n",
            "a  1.0    1   10.0\n",
            "b  2.0    2   20.0\n",
            "c  3.0    3   30.0\n",
            "d  NaN    4    NaN\n",
            "0  NaN   11   13.0\n",
            "1  NaN   17   19.0\n"
          ]
        }
      ],
      "source": [
        "# The append() function can be used to add more rows to the DataFrame\n",
        "data2 = {'one':pd.Series([1,2,3], index = ['a', 'b', 'c']),\n",
        "        'two':pd.Series([1,2,3,4], index = ['a', 'b', 'c', 'd'])}\n",
        "table5 = pd.DataFrame(data2)\n",
        "table5['three'] = pd.Series([10,20,30], index = ['a', 'b', 'c'])\n",
        "row = pd.DataFrame([[11,13],[17,19]], columns = ['two', 'three'])\n",
        "# table6 = table5.append(row)\n",
        "table6 = pd.concat([table5,row])\n",
        "print(table6)"
      ]
    },
    {
      "cell_type": "code",
      "execution_count": null,
      "id": "86955d65-7589-4c4b-b718-bd2b3d8fc965",
      "metadata": {
        "id": "86955d65-7589-4c4b-b718-bd2b3d8fc965",
        "outputId": "3b0fc595-da40-4e0e-f5be-3477baf6d519"
      },
      "outputs": [
        {
          "name": "stdout",
          "output_type": "stream",
          "text": [
            "   one  two  three\n",
            "b  2.0    2   20.0\n",
            "c  3.0    3   30.0\n",
            "d  NaN    4    NaN\n",
            "0  NaN   11   13.0\n",
            "1  NaN   17   19.0\n"
          ]
        }
      ],
      "source": [
        "# The drop() function can be used to drop rows whose labels are provided\n",
        "table7 = table6.drop('a')\n",
        "print(table7)"
      ]
    },
    {
      "cell_type": "code",
      "execution_count": null,
      "id": "57d8a0fd-ee52-4942-8187-2f0b9e93ceef",
      "metadata": {
        "id": "57d8a0fd-ee52-4942-8187-2f0b9e93ceef"
      },
      "outputs": [],
      "source": [
        "# Data can be loaded into DataFrames from input data stored in the CSV format using the read_csv() function\n",
        "table_csv = pd.read_csv('Cars2015.csv')"
      ]
    },
    {
      "cell_type": "code",
      "execution_count": null,
      "id": "f25af459-b27e-4a06-b592-1e0af0d59edd",
      "metadata": {
        "id": "f25af459-b27e-4a06-b592-1e0af0d59edd"
      },
      "outputs": [],
      "source": [
        "# Data present in DataFrames can be written to a CSV file using the to_csv() function\n",
        "# If the specified path doesn't exist, a file of the same name is automatically created\n",
        "table_csv.to_csv('newcars2015.csv')"
      ]
    },
    {
      "cell_type": "code",
      "execution_count": null,
      "id": "60ca6a1e-f10d-4107-ab4b-e58151969ec1",
      "metadata": {
        "id": "60ca6a1e-f10d-4107-ab4b-e58151969ec1",
        "outputId": "60a18eea-d19e-4436-8c8e-c09973f6caa6"
      },
      "outputs": [
        {
          "ename": "FileNotFoundError",
          "evalue": "[Errno 2] No such file or directory: 'cars2015.xlsx'",
          "output_type": "error",
          "traceback": [
            "\u001b[1;31m---------------------------------------------------------------------------\u001b[0m",
            "\u001b[1;31mFileNotFoundError\u001b[0m                         Traceback (most recent call last)",
            "Cell \u001b[1;32mIn[121], line 2\u001b[0m\n\u001b[0;32m      1\u001b[0m \u001b[38;5;66;03m# Data can be loaded into DataFrames from input data stored in the Excelsheet format using read_excel()\u001b[39;00m\n\u001b[1;32m----> 2\u001b[0m sheet \u001b[38;5;241m=\u001b[39m pd\u001b[38;5;241m.\u001b[39mread_excel(\u001b[38;5;124m'\u001b[39m\u001b[38;5;124mcars2015.xlsx\u001b[39m\u001b[38;5;124m'\u001b[39m)\n",
            "File \u001b[1;32mC:\\anaconda\\Lib\\site-packages\\pandas\\io\\excel\\_base.py:495\u001b[0m, in \u001b[0;36mread_excel\u001b[1;34m(io, sheet_name, header, names, index_col, usecols, dtype, engine, converters, true_values, false_values, skiprows, nrows, na_values, keep_default_na, na_filter, verbose, parse_dates, date_parser, date_format, thousands, decimal, comment, skipfooter, storage_options, dtype_backend, engine_kwargs)\u001b[0m\n\u001b[0;32m    493\u001b[0m \u001b[38;5;28;01mif\u001b[39;00m \u001b[38;5;129;01mnot\u001b[39;00m \u001b[38;5;28misinstance\u001b[39m(io, ExcelFile):\n\u001b[0;32m    494\u001b[0m     should_close \u001b[38;5;241m=\u001b[39m \u001b[38;5;28;01mTrue\u001b[39;00m\n\u001b[1;32m--> 495\u001b[0m     io \u001b[38;5;241m=\u001b[39m ExcelFile(\n\u001b[0;32m    496\u001b[0m         io,\n\u001b[0;32m    497\u001b[0m         storage_options\u001b[38;5;241m=\u001b[39mstorage_options,\n\u001b[0;32m    498\u001b[0m         engine\u001b[38;5;241m=\u001b[39mengine,\n\u001b[0;32m    499\u001b[0m         engine_kwargs\u001b[38;5;241m=\u001b[39mengine_kwargs,\n\u001b[0;32m    500\u001b[0m     )\n\u001b[0;32m    501\u001b[0m \u001b[38;5;28;01melif\u001b[39;00m engine \u001b[38;5;129;01mand\u001b[39;00m engine \u001b[38;5;241m!=\u001b[39m io\u001b[38;5;241m.\u001b[39mengine:\n\u001b[0;32m    502\u001b[0m     \u001b[38;5;28;01mraise\u001b[39;00m \u001b[38;5;167;01mValueError\u001b[39;00m(\n\u001b[0;32m    503\u001b[0m         \u001b[38;5;124m\"\u001b[39m\u001b[38;5;124mEngine should not be specified when passing \u001b[39m\u001b[38;5;124m\"\u001b[39m\n\u001b[0;32m    504\u001b[0m         \u001b[38;5;124m\"\u001b[39m\u001b[38;5;124man ExcelFile - ExcelFile already has the engine set\u001b[39m\u001b[38;5;124m\"\u001b[39m\n\u001b[0;32m    505\u001b[0m     )\n",
            "File \u001b[1;32mC:\\anaconda\\Lib\\site-packages\\pandas\\io\\excel\\_base.py:1550\u001b[0m, in \u001b[0;36mExcelFile.__init__\u001b[1;34m(self, path_or_buffer, engine, storage_options, engine_kwargs)\u001b[0m\n\u001b[0;32m   1548\u001b[0m     ext \u001b[38;5;241m=\u001b[39m \u001b[38;5;124m\"\u001b[39m\u001b[38;5;124mxls\u001b[39m\u001b[38;5;124m\"\u001b[39m\n\u001b[0;32m   1549\u001b[0m \u001b[38;5;28;01melse\u001b[39;00m:\n\u001b[1;32m-> 1550\u001b[0m     ext \u001b[38;5;241m=\u001b[39m inspect_excel_format(\n\u001b[0;32m   1551\u001b[0m         content_or_path\u001b[38;5;241m=\u001b[39mpath_or_buffer, storage_options\u001b[38;5;241m=\u001b[39mstorage_options\n\u001b[0;32m   1552\u001b[0m     )\n\u001b[0;32m   1553\u001b[0m     \u001b[38;5;28;01mif\u001b[39;00m ext \u001b[38;5;129;01mis\u001b[39;00m \u001b[38;5;28;01mNone\u001b[39;00m:\n\u001b[0;32m   1554\u001b[0m         \u001b[38;5;28;01mraise\u001b[39;00m \u001b[38;5;167;01mValueError\u001b[39;00m(\n\u001b[0;32m   1555\u001b[0m             \u001b[38;5;124m\"\u001b[39m\u001b[38;5;124mExcel file format cannot be determined, you must specify \u001b[39m\u001b[38;5;124m\"\u001b[39m\n\u001b[0;32m   1556\u001b[0m             \u001b[38;5;124m\"\u001b[39m\u001b[38;5;124man engine manually.\u001b[39m\u001b[38;5;124m\"\u001b[39m\n\u001b[0;32m   1557\u001b[0m         )\n",
            "File \u001b[1;32mC:\\anaconda\\Lib\\site-packages\\pandas\\io\\excel\\_base.py:1402\u001b[0m, in \u001b[0;36minspect_excel_format\u001b[1;34m(content_or_path, storage_options)\u001b[0m\n\u001b[0;32m   1399\u001b[0m \u001b[38;5;28;01mif\u001b[39;00m \u001b[38;5;28misinstance\u001b[39m(content_or_path, \u001b[38;5;28mbytes\u001b[39m):\n\u001b[0;32m   1400\u001b[0m     content_or_path \u001b[38;5;241m=\u001b[39m BytesIO(content_or_path)\n\u001b[1;32m-> 1402\u001b[0m \u001b[38;5;28;01mwith\u001b[39;00m get_handle(\n\u001b[0;32m   1403\u001b[0m     content_or_path, \u001b[38;5;124m\"\u001b[39m\u001b[38;5;124mrb\u001b[39m\u001b[38;5;124m\"\u001b[39m, storage_options\u001b[38;5;241m=\u001b[39mstorage_options, is_text\u001b[38;5;241m=\u001b[39m\u001b[38;5;28;01mFalse\u001b[39;00m\n\u001b[0;32m   1404\u001b[0m ) \u001b[38;5;28;01mas\u001b[39;00m handle:\n\u001b[0;32m   1405\u001b[0m     stream \u001b[38;5;241m=\u001b[39m handle\u001b[38;5;241m.\u001b[39mhandle\n\u001b[0;32m   1406\u001b[0m     stream\u001b[38;5;241m.\u001b[39mseek(\u001b[38;5;241m0\u001b[39m)\n",
            "File \u001b[1;32mC:\\anaconda\\Lib\\site-packages\\pandas\\io\\common.py:882\u001b[0m, in \u001b[0;36mget_handle\u001b[1;34m(path_or_buf, mode, encoding, compression, memory_map, is_text, errors, storage_options)\u001b[0m\n\u001b[0;32m    873\u001b[0m         handle \u001b[38;5;241m=\u001b[39m \u001b[38;5;28mopen\u001b[39m(\n\u001b[0;32m    874\u001b[0m             handle,\n\u001b[0;32m    875\u001b[0m             ioargs\u001b[38;5;241m.\u001b[39mmode,\n\u001b[1;32m   (...)\u001b[0m\n\u001b[0;32m    878\u001b[0m             newline\u001b[38;5;241m=\u001b[39m\u001b[38;5;124m\"\u001b[39m\u001b[38;5;124m\"\u001b[39m,\n\u001b[0;32m    879\u001b[0m         )\n\u001b[0;32m    880\u001b[0m     \u001b[38;5;28;01melse\u001b[39;00m:\n\u001b[0;32m    881\u001b[0m         \u001b[38;5;66;03m# Binary mode\u001b[39;00m\n\u001b[1;32m--> 882\u001b[0m         handle \u001b[38;5;241m=\u001b[39m \u001b[38;5;28mopen\u001b[39m(handle, ioargs\u001b[38;5;241m.\u001b[39mmode)\n\u001b[0;32m    883\u001b[0m     handles\u001b[38;5;241m.\u001b[39mappend(handle)\n\u001b[0;32m    885\u001b[0m \u001b[38;5;66;03m# Convert BytesIO or file objects passed with an encoding\u001b[39;00m\n",
            "\u001b[1;31mFileNotFoundError\u001b[0m: [Errno 2] No such file or directory: 'cars2015.xlsx'"
          ]
        }
      ],
      "source": [
        "# Data can be loaded into DataFrames from input data stored in the Excelsheet format using read_excel()\n",
        "sheet = pd.read_excel('cars2015.xlsx')"
      ]
    },
    {
      "cell_type": "code",
      "execution_count": null,
      "id": "81bc3a54-a44e-413e-b0d7-c60cdf0dbc28",
      "metadata": {
        "id": "81bc3a54-a44e-413e-b0d7-c60cdf0dbc28",
        "outputId": "9fc2c963-692e-4c5e-89d5-2f91467812e1"
      },
      "outputs": [
        {
          "ename": "NameError",
          "evalue": "name 'sheet' is not defined",
          "output_type": "error",
          "traceback": [
            "\u001b[1;31m---------------------------------------------------------------------------\u001b[0m",
            "\u001b[1;31mNameError\u001b[0m                                 Traceback (most recent call last)",
            "Cell \u001b[1;32mIn[122], line 3\u001b[0m\n\u001b[0;32m      1\u001b[0m \u001b[38;5;66;03m# Data present in DataFrames can be written to a spreadsheet file using to_excel()\u001b[39;00m\n\u001b[0;32m      2\u001b[0m \u001b[38;5;66;03m#If the specified path doesn't exist, a file of the same name is automatically created\u001b[39;00m\n\u001b[1;32m----> 3\u001b[0m sheet\u001b[38;5;241m.\u001b[39mto_excel(\u001b[38;5;124m'\u001b[39m\u001b[38;5;124mnewcars2015.xlsx\u001b[39m\u001b[38;5;124m'\u001b[39m)\n",
            "\u001b[1;31mNameError\u001b[0m: name 'sheet' is not defined"
          ]
        }
      ],
      "source": [
        "# Data present in DataFrames can be written to a spreadsheet file using to_excel()\n",
        "#If the specified path doesn't exist, a file of the same name is automatically created\n",
        "sheet.to_excel('newcars2015.xlsx')"
      ]
    }
  ],
  "metadata": {
    "kernelspec": {
      "display_name": "Python 3 (ipykernel)",
      "language": "python",
      "name": "python3"
    },
    "language_info": {
      "codemirror_mode": {
        "name": "ipython",
        "version": 3
      },
      "file_extension": ".py",
      "mimetype": "text/x-python",
      "name": "python",
      "nbconvert_exporter": "python",
      "pygments_lexer": "ipython3",
      "version": "3.13.5"
    },
    "colab": {
      "provenance": [],
      "include_colab_link": true
    }
  },
  "nbformat": 4,
  "nbformat_minor": 5
}