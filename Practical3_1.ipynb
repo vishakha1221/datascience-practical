{
  "cells": [
    {
      "cell_type": "markdown",
      "metadata": {
        "id": "view-in-github",
        "colab_type": "text"
      },
      "source": [
        "<a href=\"https://colab.research.google.com/github/vishakha1221/datascience-practical/blob/main/Practical3_1.ipynb\" target=\"_parent\"><img src=\"https://colab.research.google.com/assets/colab-badge.svg\" alt=\"Open In Colab\"/></a>"
      ]
    },
    {
      "cell_type": "code",
      "execution_count": 98,
      "id": "50de0a49-86a4-446c-9570-cfa07c9e8a80",
      "metadata": {
        "id": "50de0a49-86a4-446c-9570-cfa07c9e8a80"
      },
      "outputs": [],
      "source": [
        "import numpy as np\n",
        "import pandas as pd"
      ]
    },
    {
      "cell_type": "code",
      "execution_count": 99,
      "id": "93270f2b-ccba-4fd7-a481-fce931100072",
      "metadata": {
        "id": "93270f2b-ccba-4fd7-a481-fce931100072",
        "outputId": "9a5d79b5-93b7-439f-97c7-6424665ca52e",
        "colab": {
          "base_uri": "https://localhost:8080/"
        }
      },
      "outputs": [
        {
          "output_type": "stream",
          "name": "stdout",
          "text": [
            "[1 2 3]\n"
          ]
        }
      ],
      "source": [
        "# Creating a single-dimensional array\n",
        "a = np.array([1,2,3]) # Calling the array function\n",
        "print(a)"
      ]
    },
    {
      "cell_type": "code",
      "execution_count": 100,
      "id": "67194ddc-1b52-4715-90c5-720130327ffa",
      "metadata": {
        "id": "67194ddc-1b52-4715-90c5-720130327ffa",
        "outputId": "cf4299da-89f3-4934-fbae-2fe28b38f667",
        "colab": {
          "base_uri": "https://localhost:8080/"
        }
      },
      "outputs": [
        {
          "output_type": "stream",
          "name": "stdout",
          "text": [
            "[[1 2]\n",
            " [3 4]]\n"
          ]
        }
      ],
      "source": [
        "b = np.array([[1,2], [3,4]])\n",
        "print(b)"
      ]
    },
    {
      "cell_type": "code",
      "execution_count": 101,
      "id": "0b8f0811-fdee-4987-8be5-631010e2c104",
      "metadata": {
        "id": "0b8f0811-fdee-4987-8be5-631010e2c104",
        "outputId": "5cf1bdbc-3a90-457a-aa1e-525a1443ae56",
        "colab": {
          "base_uri": "https://localhost:8080/"
        }
      },
      "outputs": [
        {
          "output_type": "stream",
          "name": "stdout",
          "text": [
            "[1 2 3 4 5]\n"
          ]
        }
      ],
      "source": [
        "# Creating an ndarray by wrapping a list\n",
        "list1 = [1,2,3,4,5] # Creating a list\n",
        "arr = np.array(list1) # Wrapping the list\n",
        "print(arr)"
      ]
    },
    {
      "cell_type": "code",
      "execution_count": 102,
      "id": "88840700-6551-4878-aff8-560618e59f55",
      "metadata": {
        "id": "88840700-6551-4878-aff8-560618e59f55",
        "outputId": "6ba4c191-a233-4c23-856d-c1667bc3c4b7",
        "colab": {
          "base_uri": "https://localhost:8080/"
        }
      },
      "outputs": [
        {
          "output_type": "stream",
          "name": "stdout",
          "text": [
            "[10 11 12 13 14 15 16 17 18 19 20 21 22 23 24 25 26 27 28 29 30 31 32 33\n",
            " 34 35 36 37 38 39 40 41 42 43 44 45 46 47 48 49 50 51 52 53 54 55 56 57\n",
            " 58 59 60 61 62 63 64 65 66 67 68 69 70 71 72 73 74 75 76 77 78 79 80 81\n",
            " 82 83 84 85 86 87 88 89 90 91 92 93 94 95 96 97 98 99]\n"
          ]
        }
      ],
      "source": [
        "# Creating an array of numbers of a specified range\n",
        "arr1 = np.arange(10, 100) # Array of numbers from 10 up to and excluding 100\n",
        "print(arr1)"
      ]
    },
    {
      "cell_type": "code",
      "execution_count": 103,
      "id": "6d970fc7-d1e8-4c5e-ad81-ed06a25241c7",
      "metadata": {
        "id": "6d970fc7-d1e8-4c5e-ad81-ed06a25241c7",
        "outputId": "65363b72-997a-4291-a84d-e2de34215f13",
        "colab": {
          "base_uri": "https://localhost:8080/"
        }
      },
      "outputs": [
        {
          "output_type": "stream",
          "name": "stdout",
          "text": [
            "[[0. 0. 0. 0. 0.]\n",
            " [0. 0. 0. 0. 0.]\n",
            " [0. 0. 0. 0. 0.]\n",
            " [0. 0. 0. 0. 0.]\n",
            " [0. 0. 0. 0. 0.]]\n"
          ]
        }
      ],
      "source": [
        "# Creating a 5x5 array of zeroes\n",
        "arr2 = np.zeros((5,5))\n",
        "print(arr2)"
      ]
    },
    {
      "cell_type": "code",
      "execution_count": 104,
      "id": "c0cc94d5-b2fa-489f-a98a-c5917f03c3eb",
      "metadata": {
        "id": "c0cc94d5-b2fa-489f-a98a-c5917f03c3eb",
        "outputId": "e2e9ee4b-3b05-4675-9e92-65a45aaeb510",
        "colab": {
          "base_uri": "https://localhost:8080/"
        }
      },
      "outputs": [
        {
          "output_type": "stream",
          "name": "stdout",
          "text": [
            "[ 0.  5. 10. 15. 20.]\n"
          ]
        }
      ],
      "source": [
        "# Creating a linearly spaced vector, with spacing\n",
        "vector = np.linspace(0, 20, 5) # Start, stop, step\n",
        "print(vector)"
      ]
    },
    {
      "cell_type": "code",
      "execution_count": 105,
      "id": "b0960689-ca7f-43c4-b593-bdba5485ae2f",
      "metadata": {
        "id": "b0960689-ca7f-43c4-b593-bdba5485ae2f",
        "outputId": "94b10356-d1f8-4476-ea9a-c80118be4eb0",
        "colab": {
          "base_uri": "https://localhost:8080/"
        }
      },
      "outputs": [
        {
          "output_type": "stream",
          "name": "stdout",
          "text": [
            "[1 2 3]\n"
          ]
        }
      ],
      "source": [
        "# Creating Arrays from Existing Data\n",
        "x = [1,2,3]\n",
        "# Used for converting Python sequences into ndarrays\n",
        "c = np.asarray(x) #np.asarray(a, dtype = None, order = None)\n",
        "print(c)"
      ]
    },
    {
      "cell_type": "code",
      "execution_count": 106,
      "id": "547ae515-3f36-412f-91eb-a0242155cf90",
      "metadata": {
        "id": "547ae515-3f36-412f-91eb-a0242155cf90",
        "outputId": "5891b391-9b18-48b0-f1ec-cefe54a008d4",
        "colab": {
          "base_uri": "https://localhost:8080/"
        }
      },
      "outputs": [
        {
          "output_type": "stream",
          "name": "stdout",
          "text": [
            "[[[0. 0.]\n",
            "  [0. 0.]]\n",
            "\n",
            " [[0. 0.]\n",
            "  [0. 0.]]]\n"
          ]
        }
      ],
      "source": [
        "# Converting a linear array of 8 elements into a 2x2x2 3D array\n",
        "arr3 = np.zeros(8) # Flat array of eight zeroes\n",
        "arr3d = arr3.reshape((2,2,2)) # Restructured array\n",
        "print(arr3d)"
      ]
    },
    {
      "cell_type": "code",
      "execution_count": 107,
      "id": "22bc2b4e-5eb7-411f-90cf-57ec95e622ac",
      "metadata": {
        "id": "22bc2b4e-5eb7-411f-90cf-57ec95e622ac",
        "outputId": "32a420d4-db7b-4aa6-cf45-ec910c45c482",
        "colab": {
          "base_uri": "https://localhost:8080/"
        }
      },
      "outputs": [
        {
          "output_type": "stream",
          "name": "stdout",
          "text": [
            "[0. 0. 0. 0. 0. 0. 0. 0.]\n"
          ]
        }
      ],
      "source": [
        "# Flatten rgw 3d array to get back the linear array\n",
        "arr4 = arr3d.ravel()\n",
        "print(arr4)"
      ]
    },
    {
      "cell_type": "code",
      "execution_count": 108,
      "id": "36e94a79-e586-4689-99de-c52ad5768997",
      "metadata": {
        "id": "36e94a79-e586-4689-99de-c52ad5768997",
        "outputId": "01f2e452-7a27-4085-c618-b4e08d33d296",
        "colab": {
          "base_uri": "https://localhost:8080/"
        }
      },
      "outputs": [
        {
          "output_type": "stream",
          "name": "stdout",
          "text": [
            "8\n"
          ]
        }
      ],
      "source": [
        "# NumPy array indexing is identical to Python's indexing scheme\n",
        "arr5 = np.arange(2, 20)\n",
        "element = arr5[6]\n",
        "print(element)"
      ]
    },
    {
      "cell_type": "code",
      "execution_count": 109,
      "id": "e76fce09-aae8-4b09-a5e0-bbfcb61eca55",
      "metadata": {
        "id": "e76fce09-aae8-4b09-a5e0-bbfcb61eca55",
        "outputId": "6b400e02-8ef9-4b37-d346-1aba4395cf47",
        "colab": {
          "base_uri": "https://localhost:8080/"
        }
      },
      "outputs": [
        {
          "output_type": "stream",
          "name": "stdout",
          "text": [
            "[1 3 5 7 9]\n"
          ]
        }
      ],
      "source": [
        "# Python's concept of lists slicing is extended to NumPy.\n",
        "# The slice object is constructed by providing start, stop, and step parameters to slice()\n",
        "arr6 = np.arange(20)\n",
        "arr_slice = slice(1, 10, 2) # Start, stop & step\n",
        "element2 = arr6[6]\n",
        "print(arr6[arr_slice])"
      ]
    },
    {
      "cell_type": "code",
      "execution_count": 110,
      "id": "6a9ee1f9-34a3-4a39-9bfa-06f5a7cd1d19",
      "metadata": {
        "id": "6a9ee1f9-34a3-4a39-9bfa-06f5a7cd1d19",
        "outputId": "b9d7985d-e3d6-4594-82b7-22e3f3bb2d43",
        "colab": {
          "base_uri": "https://localhost:8080/"
        }
      },
      "outputs": [
        {
          "output_type": "stream",
          "name": "stdout",
          "text": [
            "[ 2  3  4  5  6  7  8  9 10 11 12 13 14 15 16 17 18 19]\n"
          ]
        }
      ],
      "source": [
        "# Slicing items beginning with a specified index\n",
        "arr7 = np.arange(20)\n",
        "print(arr7[2:])"
      ]
    },
    {
      "cell_type": "code",
      "execution_count": 111,
      "id": "1a4a9aa1-42d3-48d1-a18f-4af4de8ca73d",
      "metadata": {
        "id": "1a4a9aa1-42d3-48d1-a18f-4af4de8ca73d",
        "outputId": "9bf827a1-86ac-4dd1-c2b8-5d3691ca1916",
        "colab": {
          "base_uri": "https://localhost:8080/"
        }
      },
      "outputs": [
        {
          "output_type": "stream",
          "name": "stdout",
          "text": [
            "[ 0  1  2  3  4  5  6  7  8  9 10 11 12 13 14]\n"
          ]
        }
      ],
      "source": [
        "# Slicing items until a specified index\n",
        "print(arr7[:15])"
      ]
    },
    {
      "cell_type": "code",
      "execution_count": 112,
      "id": "ec617bc2-c63d-4661-9a30-6244894dca6b",
      "metadata": {
        "id": "ec617bc2-c63d-4661-9a30-6244894dca6b",
        "outputId": "89e19de4-6bb8-4d7e-8f46-d8f9f8e8618e",
        "colab": {
          "base_uri": "https://localhost:8080/"
        }
      },
      "outputs": [
        {
          "output_type": "stream",
          "name": "stdout",
          "text": [
            "[[1 2]\n",
            " [3 4]]\n"
          ]
        }
      ],
      "source": [
        "# Extracting specific rows and columns using Slicing\n",
        "d = np.array([[1,2,3], [3,4,5], [4,5,6]])\n",
        "print(d[0:2, 0:2]) # Slice the first two rows and the first two columns"
      ]
    },
    {
      "cell_type": "code",
      "execution_count": 113,
      "id": "f1454c53-76e7-49d0-a8e8-3610a21ad3f1",
      "metadata": {
        "id": "f1454c53-76e7-49d0-a8e8-3610a21ad3f1",
        "outputId": "eb8cf53e-f216-4b58-93c6-d877228ae323",
        "colab": {
          "base_uri": "https://localhost:8080/"
        }
      },
      "outputs": [
        {
          "output_type": "stream",
          "name": "stdout",
          "text": [
            "(3, 3)\n",
            "2\n",
            "8\n"
          ]
        }
      ],
      "source": [
        "print(d.shape) # Returns a tuple consisting of array dimensions\n",
        "print(d.ndim) # Attribute returns the number of array dimensions\n",
        "print(a.itemsize) # Returns the length of each element of array in bytes"
      ]
    },
    {
      "cell_type": "code",
      "execution_count": 114,
      "id": "4abf1ff0-1373-4db8-ad81-80d6e8ba6d17",
      "metadata": {
        "id": "4abf1ff0-1373-4db8-ad81-80d6e8ba6d17",
        "outputId": "fbcbc876-3c5d-47d4-c7b8-6c6e2aaaae70",
        "colab": {
          "base_uri": "https://localhost:8080/"
        }
      },
      "outputs": [
        {
          "output_type": "stream",
          "name": "stdout",
          "text": [
            "[[0 0]\n",
            " [0 0]\n",
            " [0 0]]\n"
          ]
        }
      ],
      "source": [
        "y = np.empty([3,2], dtype = int) # Creates an uninitialized array of specified shape and dtype\n",
        "print(y)"
      ]
    },
    {
      "cell_type": "code",
      "execution_count": 115,
      "id": "a0d07485-4cfa-4b79-a362-e13c484c25d6",
      "metadata": {
        "id": "a0d07485-4cfa-4b79-a362-e13c484c25d6",
        "outputId": "b916ba02-f3cc-4de5-bfc9-f981b10ce4fa",
        "colab": {
          "base_uri": "https://localhost:8080/"
        }
      },
      "outputs": [
        {
          "output_type": "stream",
          "name": "stdout",
          "text": [
            "[0. 0. 0. 0. 0.]\n"
          ]
        }
      ],
      "source": [
        "# Returns a new array of specified size, filled with zeros\n",
        "z = np.zeros(5) # np.zeros(shape, dtype = float)\n",
        "print(z)"
      ]
    },
    {
      "cell_type": "code",
      "execution_count": 116,
      "id": "de10d0eb-7f37-42f6-9a85-5d7042958a5e",
      "metadata": {
        "id": "de10d0eb-7f37-42f6-9a85-5d7042958a5e"
      },
      "outputs": [],
      "source": [
        "# NumPy provides the option of importing data from files directly into ndarray using the loadtxt function\n",
        "# The savetxt function can be used to write data from an array into a text file\n",
        "#import os\n",
        "#print(os.listdir('../input'))\n",
        "arr_txt = np.loadtxt('data_file.txt')\n",
        "np.savetxt('newfilex.txt', arr_txt)"
      ]
    },
    {
      "cell_type": "code",
      "execution_count": 117,
      "id": "c0a05d41-abcb-490a-a63a-8f36d0384d19",
      "metadata": {
        "id": "c0a05d41-abcb-490a-a63a-8f36d0384d19"
      },
      "outputs": [],
      "source": [
        "# NumPy arrays can be dumped into CSV files using the savetxt function and the comma delimiter\n",
        "# The genfromtxt function can be used to read data from a CSV file into a NumPy array\n",
        "arr_csv = np.genfromtxt('storms.csv', delimiter = ',')\n",
        "np.savetxt('newfilex.csv', arr_csv, delimiter = ',')"
      ]
    },
    {
      "cell_type": "code",
      "execution_count": 118,
      "id": "dd2108b8-c8db-41b5-ba4f-574eae7b0e46",
      "metadata": {
        "id": "dd2108b8-c8db-41b5-ba4f-574eae7b0e46"
      },
      "outputs": [],
      "source": [
        "import pandas as pd"
      ]
    },
    {
      "cell_type": "code",
      "execution_count": 119,
      "id": "b9538641-9f02-4d0b-8bcd-732a888680bf",
      "metadata": {
        "id": "b9538641-9f02-4d0b-8bcd-732a888680bf",
        "outputId": "ef79b42d-e7a6-4bdc-e849-307d33de1a18",
        "colab": {
          "base_uri": "https://localhost:8080/"
        }
      },
      "outputs": [
        {
          "output_type": "stream",
          "name": "stdout",
          "text": [
            "Series([], dtype: object)\n"
          ]
        }
      ],
      "source": [
        "# Creating an empty Series\n",
        "series = pd.Series() # The Series() function creates a new Series\n",
        "print(series)"
      ]
    },
    {
      "cell_type": "code",
      "execution_count": 120,
      "id": "be0b6f0a-6aa9-4adb-9b80-269ed4098998",
      "metadata": {
        "id": "be0b6f0a-6aa9-4adb-9b80-269ed4098998",
        "outputId": "e41deb8b-e72a-4625-c805-25b5b491015a",
        "colab": {
          "base_uri": "https://localhost:8080/"
        }
      },
      "outputs": [
        {
          "output_type": "stream",
          "name": "stdout",
          "text": [
            "0    10\n",
            "1    20\n",
            "2    30\n",
            "3    40\n",
            "4    50\n",
            "dtype: int64\n"
          ]
        }
      ],
      "source": [
        "# Creating a series from an ndarray\n",
        "# Note that indexes are a assigned automatically if not specifies\n",
        "arr = np.array([10,20,30,40,50])\n",
        "series1 = pd.Series(arr)\n",
        "print(series1)"
      ]
    },
    {
      "cell_type": "code",
      "execution_count": 121,
      "id": "670caa30-5f64-45a6-a996-318e66a3cc69",
      "metadata": {
        "id": "670caa30-5f64-45a6-a996-318e66a3cc69",
        "outputId": "d5383cfa-8c9a-469a-9069-b2965f7e4c2d",
        "colab": {
          "base_uri": "https://localhost:8080/"
        }
      },
      "outputs": [
        {
          "output_type": "stream",
          "name": "stdout",
          "text": [
            "a    10\n",
            "b    20\n",
            "c    30\n",
            "dtype: int64\n"
          ]
        }
      ],
      "source": [
        "# Creating a series from a Python dict\n",
        "# Note that the keys of the dictionary are used to assign indexes during conversion\n",
        "data = {'a':10, 'b':20, 'c':30}\n",
        "series2 = pd.Series(data)\n",
        "print(series2)"
      ]
    },
    {
      "cell_type": "code",
      "execution_count": 122,
      "id": "7311498e-0edc-4b86-91a9-0d6393bc8504",
      "metadata": {
        "id": "7311498e-0edc-4b86-91a9-0d6393bc8504",
        "outputId": "04ac9753-4798-4b2a-884f-b0671a413189",
        "colab": {
          "base_uri": "https://localhost:8080/"
        }
      },
      "outputs": [
        {
          "output_type": "stream",
          "name": "stdout",
          "text": [
            "1    20\n",
            "2    30\n",
            "3    40\n",
            "dtype: int64\n"
          ]
        }
      ],
      "source": [
        "# Retrieving a part of the series using slicing\n",
        "print(series1[1:4])"
      ]
    },
    {
      "cell_type": "code",
      "execution_count": 123,
      "id": "40a26be8-81c1-43b4-a6d5-35fbfb6659d7",
      "metadata": {
        "id": "40a26be8-81c1-43b4-a6d5-35fbfb6659d7",
        "outputId": "a5489a6f-1c93-4ed8-f55a-93972b35b1a7",
        "colab": {
          "base_uri": "https://localhost:8080/"
        }
      },
      "outputs": [
        {
          "output_type": "stream",
          "name": "stdout",
          "text": [
            "    0\n",
            "0  10\n",
            "1  20\n",
            "2  30\n",
            "3  40\n"
          ]
        }
      ],
      "source": [
        "# Converting a list into a DataFrame\n",
        "list1 = [10, 20, 30, 40]\n",
        "table = pd.DataFrame(list1)\n",
        "print(table)"
      ]
    },
    {
      "cell_type": "code",
      "execution_count": 124,
      "id": "09b7cfb1-006d-41f5-ab3b-bb579419b8a6",
      "metadata": {
        "id": "09b7cfb1-006d-41f5-ab3b-bb579419b8a6",
        "outputId": "10cee1cd-d18b-4c70-8f67-9983860706d5",
        "colab": {
          "base_uri": "https://localhost:8080/"
        }
      },
      "outputs": [
        {
          "output_type": "stream",
          "name": "stdout",
          "text": [
            "   a  b    c\n",
            "0  1  2  NaN\n",
            "1  2  4  8.0\n"
          ]
        }
      ],
      "source": [
        "# Creating a DataFrame from a list of dictionaries\n",
        "data = [{'a':1, 'b':2}, {'a':2, 'b':4, 'c':8}]\n",
        "table1 = pd.DataFrame(data)\n",
        "print(table1)"
      ]
    },
    {
      "cell_type": "code",
      "execution_count": 125,
      "id": "4f366979-7105-4599-94b2-16fb08c3114a",
      "metadata": {
        "id": "4f366979-7105-4599-94b2-16fb08c3114a",
        "outputId": "4218588b-03da-4bc5-9d5f-e7a1e25b27c8",
        "colab": {
          "base_uri": "https://localhost:8080/"
        }
      },
      "outputs": [
        {
          "output_type": "stream",
          "name": "stdout",
          "text": [
            "        a  b    c\n",
            "first   1  2  NaN\n",
            "second  2  4  8.0\n"
          ]
        }
      ],
      "source": [
        "# Creating a DataFrame from a list of dictionaries and accompaying row indices\n",
        "table2 = pd.DataFrame(data, index = ['first', 'second'])\n",
        "# Dict keys become column lables\n",
        "print(table2)"
      ]
    },
    {
      "cell_type": "code",
      "execution_count": 126,
      "id": "d912cc2f-5e67-49c7-bc31-6cecd69f79ef",
      "metadata": {
        "id": "d912cc2f-5e67-49c7-bc31-6cecd69f79ef",
        "outputId": "2a85d240-91ad-4097-b1e3-250d94f0cd42",
        "colab": {
          "base_uri": "https://localhost:8080/"
        }
      },
      "outputs": [
        {
          "output_type": "stream",
          "name": "stdout",
          "text": [
            "   one  two\n",
            "a  1.0    1\n",
            "b  2.0    2\n",
            "c  3.0    3\n",
            "d  NaN    4\n"
          ]
        }
      ],
      "source": [
        "# Converting a dictionary of series into a DataFrame\n",
        "data1 = {'one':pd.Series([1,2,3], index = ['a', 'b', 'c']),\n",
        "        'two':pd.Series([1,2,3,4], index = ['a', 'b', 'c', 'd'])}\n",
        "table3 = pd.DataFrame(data1)\n",
        "print(table3)"
      ]
    },
    {
      "cell_type": "code",
      "execution_count": 127,
      "id": "066948f9-6442-4805-9a74-e5f91cc86c7a",
      "metadata": {
        "id": "066948f9-6442-4805-9a74-e5f91cc86c7a",
        "outputId": "3e76b169-eeb1-4100-b894-d128df60a5f9",
        "colab": {
          "base_uri": "https://localhost:8080/"
        }
      },
      "outputs": [
        {
          "output_type": "stream",
          "name": "stdout",
          "text": [
            "   one  two  three\n",
            "a  1.0    1   10.0\n",
            "b  2.0    2   20.0\n",
            "c  3.0    3   30.0\n",
            "d  NaN    4    NaN\n"
          ]
        }
      ],
      "source": [
        "# A new column can be added to a DataFrame when the data is passed as a Series\n",
        "table3['three'] = pd.Series([10,20,30], index = ['a', 'b', 'c'])\n",
        "print(table3)"
      ]
    },
    {
      "cell_type": "code",
      "execution_count": 128,
      "id": "db72a035-060a-4d77-836a-3d2546661521",
      "metadata": {
        "id": "db72a035-060a-4d77-836a-3d2546661521",
        "outputId": "242b6f07-a738-466e-b086-a962d1e7375a",
        "colab": {
          "base_uri": "https://localhost:8080/"
        }
      },
      "outputs": [
        {
          "output_type": "stream",
          "name": "stdout",
          "text": [
            "   two  three\n",
            "a    1   10.0\n",
            "b    2   20.0\n",
            "c    3   30.0\n",
            "d    4    NaN\n"
          ]
        }
      ],
      "source": [
        "# DataFrame columns can be deleted using the del() function\n",
        "del table3['one']\n",
        "print(table3)"
      ]
    },
    {
      "cell_type": "code",
      "execution_count": 129,
      "id": "2246c457-3e34-429b-b1bd-4b9d500386a6",
      "metadata": {
        "id": "2246c457-3e34-429b-b1bd-4b9d500386a6",
        "outputId": "94ee3838-751f-4e5f-e135-2b59919da4ab",
        "colab": {
          "base_uri": "https://localhost:8080/"
        }
      },
      "outputs": [
        {
          "output_type": "stream",
          "name": "stdout",
          "text": [
            "   three\n",
            "a   10.0\n",
            "b   20.0\n",
            "c   30.0\n",
            "d    NaN\n"
          ]
        }
      ],
      "source": [
        "# DataFrame columns can be deleted using the pop() function\n",
        "table3.pop('two')\n",
        "print(table3)"
      ]
    },
    {
      "cell_type": "code",
      "execution_count": 130,
      "id": "947d877d-17c5-430d-aa4d-a6a3dac9284b",
      "metadata": {
        "id": "947d877d-17c5-430d-aa4d-a6a3dac9284b",
        "outputId": "b0e3ace8-ed3c-43c0-f593-74007cb9899b",
        "colab": {
          "base_uri": "https://localhost:8080/"
        }
      },
      "outputs": [
        {
          "output_type": "stream",
          "name": "stdout",
          "text": [
            "three    30.0\n",
            "Name: c, dtype: float64\n"
          ]
        }
      ],
      "source": [
        "# DataFrame rows can be selected by passing the row lable to the loc() function\n",
        "print(table3.loc['c'])"
      ]
    },
    {
      "cell_type": "code",
      "execution_count": 131,
      "id": "8f93ce18-6dbf-48fd-8985-584f98a845c7",
      "metadata": {
        "id": "8f93ce18-6dbf-48fd-8985-584f98a845c7",
        "outputId": "c5aa6fd0-9cd2-4b53-b881-7a8f6a9df668",
        "colab": {
          "base_uri": "https://localhost:8080/"
        }
      },
      "outputs": [
        {
          "output_type": "stream",
          "name": "stdout",
          "text": [
            "three    30.0\n",
            "Name: c, dtype: float64\n"
          ]
        }
      ],
      "source": [
        "# Row selection can also be done using the row index\n",
        "print(table3.iloc[2])"
      ]
    },
    {
      "cell_type": "code",
      "execution_count": 132,
      "id": "667ce69f-4656-44e5-a8d7-050f7940416e",
      "metadata": {
        "id": "667ce69f-4656-44e5-a8d7-050f7940416e",
        "outputId": "a95dac6c-3879-41c7-91bb-8022b29aec6c",
        "colab": {
          "base_uri": "https://localhost:8080/"
        }
      },
      "outputs": [
        {
          "output_type": "stream",
          "name": "stdout",
          "text": [
            "   one  two  three\n",
            "a  1.0    1   10.0\n",
            "b  2.0    2   20.0\n",
            "c  3.0    3   30.0\n",
            "d  NaN    4    NaN\n",
            "0  NaN   11   13.0\n",
            "1  NaN   17   19.0\n"
          ]
        }
      ],
      "source": [
        "# The append() function can be used to add more rows to the DataFrame\n",
        "data2 = {'one':pd.Series([1,2,3], index = ['a', 'b', 'c']),\n",
        "        'two':pd.Series([1,2,3,4], index = ['a', 'b', 'c', 'd'])}\n",
        "table5 = pd.DataFrame(data2)\n",
        "table5['three'] = pd.Series([10,20,30], index = ['a', 'b', 'c'])\n",
        "row = pd.DataFrame([[11,13],[17,19]], columns = ['two', 'three'])\n",
        "# table6 = table5.append(row)\n",
        "table6 = pd.concat([table5,row])\n",
        "print(table6)"
      ]
    },
    {
      "cell_type": "code",
      "execution_count": 133,
      "id": "86955d65-7589-4c4b-b718-bd2b3d8fc965",
      "metadata": {
        "id": "86955d65-7589-4c4b-b718-bd2b3d8fc965",
        "outputId": "6df0979d-d2bf-4874-d0ca-e270ea98cb35",
        "colab": {
          "base_uri": "https://localhost:8080/"
        }
      },
      "outputs": [
        {
          "output_type": "stream",
          "name": "stdout",
          "text": [
            "   one  two  three\n",
            "b  2.0    2   20.0\n",
            "c  3.0    3   30.0\n",
            "d  NaN    4    NaN\n",
            "0  NaN   11   13.0\n",
            "1  NaN   17   19.0\n"
          ]
        }
      ],
      "source": [
        "# The drop() function can be used to drop rows whose labels are provided\n",
        "table7 = table6.drop('a')\n",
        "print(table7)"
      ]
    },
    {
      "cell_type": "code",
      "execution_count": 134,
      "id": "57d8a0fd-ee52-4942-8187-2f0b9e93ceef",
      "metadata": {
        "id": "57d8a0fd-ee52-4942-8187-2f0b9e93ceef"
      },
      "outputs": [],
      "source": [
        "# Data can be loaded into DataFrames from input data stored in the CSV format using the read_csv() function\n",
        "table_csv = pd.read_csv('cars.csv')"
      ]
    },
    {
      "cell_type": "code",
      "execution_count": 135,
      "id": "f25af459-b27e-4a06-b592-1e0af0d59edd",
      "metadata": {
        "id": "f25af459-b27e-4a06-b592-1e0af0d59edd"
      },
      "outputs": [],
      "source": [
        "# Data present in DataFrames can be written to a CSV file using the to_csv() function\n",
        "# If the specified path doesn't exist, a file of the same name is automatically created\n",
        "table_csv.to_csv('newcars2015.csv')"
      ]
    },
    {
      "cell_type": "code",
      "execution_count": 136,
      "id": "60ca6a1e-f10d-4107-ab4b-e58151969ec1",
      "metadata": {
        "id": "60ca6a1e-f10d-4107-ab4b-e58151969ec1"
      },
      "outputs": [],
      "source": [
        "# Data can be loaded into DataFrames from input data stored in the Excelsheet format using read_excel()\n",
        "sheet = pd.read_excel('newcars.xlsx')"
      ]
    },
    {
      "cell_type": "code",
      "execution_count": 137,
      "id": "81bc3a54-a44e-413e-b0d7-c60cdf0dbc28",
      "metadata": {
        "id": "81bc3a54-a44e-413e-b0d7-c60cdf0dbc28"
      },
      "outputs": [],
      "source": [
        "# Data present in DataFrames can be written to a spreadsheet file using to_excel()\n",
        "#If the specified path doesn't exist, a file of the same name is automatically created\n",
        "sheet.to_excel('newcars2015.xlsx')"
      ]
    }
  ],
  "metadata": {
    "kernelspec": {
      "display_name": "Python 3 (ipykernel)",
      "language": "python",
      "name": "python3"
    },
    "language_info": {
      "codemirror_mode": {
        "name": "ipython",
        "version": 3
      },
      "file_extension": ".py",
      "mimetype": "text/x-python",
      "name": "python",
      "nbconvert_exporter": "python",
      "pygments_lexer": "ipython3",
      "version": "3.13.5"
    },
    "colab": {
      "provenance": [],
      "include_colab_link": true
    }
  },
  "nbformat": 4,
  "nbformat_minor": 5
}